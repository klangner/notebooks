{
 "cells": [
  {
   "cell_type": "markdown",
   "metadata": {},
   "source": [
    "# Use case 1 Cookie "
   ]
  },
  {
   "cell_type": "markdown",
   "metadata": {},
   "source": [
    "There are 2 jars with balls:\n",
    "  * Jar A contains 7 brown and 3 white balls\n",
    "  * Jar B contains 5 brown and 5 white balls\n",
    "  \n",
    "We choose randomly 1 ball and it is brown. What is the probability that it comes from Jar A?"
   ]
  },
  {
   "cell_type": "markdown",
   "metadata": {},
   "source": [
    "Calculating by hand:\n",
    "$$P(A) = \\frac{1}{2}$$\n",
    "\n",
    "$$P(Brown) = P(Brown|A)*P(A) + P(Brown|B)*P(B) = \\frac{3}{5}$$\n",
    "\n",
    "$$P(Brown|A) = P(Brown|A) = \\frac{7}{10}$$\n",
    "\n",
    "And now using Bayes rule\n",
    "$$P(A|Brown) = \\frac{P(Brown|A)*P(A)}{P(Brown)} = \\frac{\\frac{7}{10}*\\frac{1}{2}}{\\frac{3}{5}} = \\frac{7}{12}$$"
   ]
  },
  {
   "cell_type": "markdown",
   "metadata": {},
   "source": [
    "## Calculating with pyMC"
   ]
  },
  {
   "cell_type": "code",
   "execution_count": 2,
   "metadata": {
    "collapsed": true
   },
   "outputs": [],
   "source": [
    "%matplotlib inline\n",
    "import numpy as np\n",
    "import pymc as pm\n",
    "import matplotlib.pyplot as plt\n",
    "from IPython.core.pylabtools import figsize"
   ]
  },
  {
   "cell_type": "code",
   "execution_count": 3,
   "metadata": {
    "collapsed": false
   },
   "outputs": [],
   "source": [
    "jar = pm.Uniform(\"jar\", lower=0, upper=1)\n",
    "\n",
    "@pm.deterministic(plot=False)\n",
    "def rate(jar=jar):\n",
    "    if jar == 1:\n",
    "        return 0.7\n",
    "    else:\n",
    "        return 0.5\n",
    "\n",
    "observation = pm.Binomial(\"observation\", n=1, p=rate, value=1, observed=True)\n",
    "model1 = pm.Model([observation, rate, jar])"
   ]
  },
  {
   "cell_type": "code",
   "execution_count": 4,
   "metadata": {
    "collapsed": false
   },
   "outputs": [
    {
     "name": "stdout",
     "output_type": "stream",
     "text": [
      " [-----------------100%-----------------] 40000 of 40000 complete in 1.3 sec"
     ]
    }
   ],
   "source": [
    "mcmc = pm.MCMC(model1)\n",
    "mcmc.sample(40000, 10000, 1)"
   ]
  },
  {
   "cell_type": "code",
   "execution_count": 11,
   "metadata": {
    "collapsed": false
   },
   "outputs": [
    {
     "ename": "AttributeError",
     "evalue": "'Binomial' object has no attribute 'trace'",
     "output_type": "error",
     "traceback": [
      "\u001b[1;31m---------------------------------------------------------------------------\u001b[0m",
      "\u001b[1;31mAttributeError\u001b[0m                            Traceback (most recent call last)",
      "\u001b[1;32m<ipython-input-11-65cc8fd24989>\u001b[0m in \u001b[0;36m<module>\u001b[1;34m()\u001b[0m\n\u001b[1;32m----> 1\u001b[1;33m \u001b[0mobservation\u001b[0m\u001b[1;33m.\u001b[0m\u001b[0mtrace\u001b[0m\u001b[1;33m(\u001b[0m\u001b[1;33m)\u001b[0m\u001b[1;33m\u001b[0m\u001b[0m\n\u001b[0m",
      "\u001b[1;31mAttributeError\u001b[0m: 'Binomial' object has no attribute 'trace'"
     ]
    }
   ],
   "source": [
    "observation.trace()"
   ]
  },
  {
   "cell_type": "code",
   "execution_count": 6,
   "metadata": {
    "collapsed": false
   },
   "outputs": [
    {
     "data": {
      "text/plain": [
       "0.5833333333333334"
      ]
     },
     "execution_count": 6,
     "metadata": {},
     "output_type": "execute_result"
    }
   ],
   "source": [
    "7/12"
   ]
  }
 ],
 "metadata": {
  "kernelspec": {
   "display_name": "Python 3",
   "language": "python",
   "name": "python3"
  },
  "language_info": {
   "codemirror_mode": {
    "name": "ipython",
    "version": 3
   },
   "file_extension": ".py",
   "mimetype": "text/x-python",
   "name": "python",
   "nbconvert_exporter": "python",
   "pygments_lexer": "ipython3",
   "version": "3.4.3"
  }
 },
 "nbformat": 4,
 "nbformat_minor": 0
}
